{
  "nbformat": 4,
  "nbformat_minor": 0,
  "metadata": {
    "colab": {
      "name": "shenzhen property price analysis.ipynb",
      "version": "0.3.2",
      "provenance": [],
      "include_colab_link": true
    },
    "language_info": {
      "codemirror_mode": {
        "name": "ipython",
        "version": 3
      },
      "file_extension": ".py",
      "mimetype": "text/x-python",
      "name": "python",
      "nbconvert_exporter": "python",
      "pygments_lexer": "ipython3",
      "version": "3.7.0"
    },
    "kernelspec": {
      "display_name": "Python 3",
      "language": "python",
      "name": "python3"
    }
  },
  "cells": [
    {
      "cell_type": "markdown",
      "metadata": {
        "id": "view-in-github",
        "colab_type": "text"
      },
      "source": [
        "<a href=\"https://colab.research.google.com/github/CarpeDiemer/data-science/blob/master/shenzhen_property_price_analysis.ipynb\" target=\"_parent\"><img src=\"https://colab.research.google.com/assets/colab-badge.svg\" alt=\"Open In Colab\"/></a>"
      ]
    },
    {
      "metadata": {
        "colab_type": "code",
        "id": "BRm22Hu92Njz",
        "colab": {}
      },
      "cell_type": "code",
      "source": [
        "from bs4 import BeautifulSoup\n",
        "from requests import get\n",
        "import pandas as pd\n",
        "import itertools\n",
        "import matplotlib.pyplot as plt\n",
        "import seaborn as sns\n",
        "import re\n",
        "import time\n",
        "sns.set()"
      ],
      "execution_count": 0,
      "outputs": []
    },
    {
      "metadata": {
        "colab_type": "code",
        "id": "dk_R8iYVUUII",
        "outputId": "24734c0c-8708-4d7c-8de1-8fd16a869462",
        "colab": {
          "base_uri": "https://localhost:8080/",
          "height": 34
        }
      },
      "cell_type": "code",
      "source": [
        "!curl ipecho.net/plain"
      ],
      "execution_count": 2,
      "outputs": [
        {
          "output_type": "stream",
          "text": [
            "35.237.52.249"
          ],
          "name": "stdout"
        }
      ]
    },
    {
      "metadata": {
        "colab_type": "code",
        "id": "IhPfQe582qQC",
        "colab": {}
      },
      "cell_type": "code",
      "source": [
        "headers = ({'User-Agent':'Mozilla/5.0 (X11; Linux x86_64; rv:10.0) Gecko/20100101 Firefox/10.0'})"
      ],
      "execution_count": 0,
      "outputs": []
    },
    {
      "metadata": {
        "colab_type": "code",
        "id": "D6IBGSE63Vgl",
        "colab": {}
      },
      "cell_type": "code",
      "source": [
        "anjuke = 'https://shenzhen.anjuke.com/sale/p25/'\n",
        "response = get(anjuke,headers=headers)"
      ],
      "execution_count": 0,
      "outputs": []
    },
    {
      "metadata": {
        "colab_type": "code",
        "id": "hQ9IYptP6bRq",
        "outputId": "dd03e203-bb84-4666-b567-c0bd800ab197",
        "colab": {
          "base_uri": "https://localhost:8080/",
          "height": 34
        }
      },
      "cell_type": "code",
      "source": [
        "print(response)"
      ],
      "execution_count": 5,
      "outputs": [
        {
          "output_type": "stream",
          "text": [
            "<Response [200]>\n"
          ],
          "name": "stdout"
        }
      ]
    },
    {
      "metadata": {
        "colab_type": "code",
        "id": "_ITe-Wf06h5w",
        "outputId": "869720a1-4994-492d-9410-1e6a1e7e08b1",
        "colab": {
          "base_uri": "https://localhost:8080/",
          "height": 309
        }
      },
      "cell_type": "code",
      "source": [
        "print(response.text[:1000])"
      ],
      "execution_count": 6,
      "outputs": [
        {
          "output_type": "stream",
          "text": [
            "     <!DOCTYPE HTML PUBLIC \"-//W3C//DTD HTML 4.01//EN\" \"http://www.w3.org/TR/html4/strict.dtd\">\n",
            "<html>\n",
            "<head>\n",
            "\n",
            "<META HTTP-EQUIV=\"Content-Type\" CONTENT=\"text/html; charset=UTF-8\">\n",
            "<META NAME=\"format-detection\" CONTENT=\"telephone=no\" />\n",
            "<meta name=\"location\" content=\"province=广东;city=深圳;coord=114.066793,22.549792\">\n",
            "<meta name=\"mobile-agent\" content=\"format=html5; url=https://m.anjuke.com/sz/sale/\" />\n",
            "<link rel=\"alternate\" media=\"only screen and(max-width: 640px)\" href=\"https://m.anjuke.com/sz/sale/\">\n",
            "<title>深圳二手房房产网，深圳二手房交易信息，深圳二手房出售 - 58安居客</title><meta name=\"keywords\" content=\"深圳二手房，深圳房产网，深圳二手房交易信息，深圳二手房出售 - 58安居客房产\"/>\n",
            "<meta name=\"description\" content=\"安居客深圳二手房网，为您提供深圳二手房出售，二手房房屋买卖交易信息；深圳地图，商圈，地铁找房，二手房房源信息，请访问安居客深圳房产网\"/>\n",
            "<meta name=\"apple-itunes-app\" content=\"app-id=527806786\" />\n",
            "<link href=\"https://shenzhen.anjuke.com/sale/p25/\" rel=\"canonical\">\n",
            "<link rel=\"alternate\" media=\"only screen and(max-width: 640px)\" href=\"https://m.anjuke.com/sz/sale/\">\n",
            "\n",
            "<meta name=\"baidu-site-verification\" c\n"
          ],
          "name": "stdout"
        }
      ]
    },
    {
      "metadata": {
        "colab_type": "code",
        "id": "k37LQ9lX6ld6",
        "colab": {}
      },
      "cell_type": "code",
      "source": [
        "html_soup = BeautifulSoup(response.text,'html.parser')"
      ],
      "execution_count": 0,
      "outputs": []
    },
    {
      "metadata": {
        "colab_type": "code",
        "id": "OQJ6vg6N6vjS",
        "colab": {}
      },
      "cell_type": "code",
      "source": [
        "house_containers = html_soup.find_all('li',class_='list-item')"
      ],
      "execution_count": 0,
      "outputs": []
    },
    {
      "metadata": {
        "colab_type": "code",
        "id": "2aBYhsxU8ojA",
        "outputId": "6c307048-d6cc-4a0f-c614-d23851f544b8",
        "colab": {
          "base_uri": "https://localhost:8080/",
          "height": 547
        }
      },
      "cell_type": "code",
      "source": [
        "house_containers[0]"
      ],
      "execution_count": 9,
      "outputs": [
        {
          "output_type": "execute_result",
          "data": {
            "text/plain": [
              "<li class=\"list-item\" data-from=\"\">\n",
              "<div class=\"item-img\">\n",
              "<img height=\"135\" src=\"https://pic1.ajkimg.com/display/hj/68eaa548834ce5e4d0a21a5f0e1039b3/240x180c.jpg?t=1\" width=\"180\"/>\n",
              "<div class=\"icon-wrapper\">\n",
              "<i class=\"icon-video-new\"></i>\n",
              "<i class=\"icon-720\"></i>\n",
              "</div>\n",
              "</div>\n",
              "<div class=\"house-details\">\n",
              "<div class=\"house-title\">\n",
              "<a class=\"houseListTitle \" data-company=\"\" data-from=\"\" href=\"https://shenzhen.anjuke.com/prop/view/A1629412702?from=filter&amp;spread=commsearch_p&amp;position=1441&amp;kwtype=filter&amp;now_time=1555139496\" target=\"_blank\" title=\"星海名城五期 大社区 超高使用率的两房 安静不吵  近科技园\">\n",
              "                星海名城五期 大社区 超高使用率的两房 安静不吵  近科技园</a>\n",
              "<i class=\"house-icon house-icon-anxuan\" style=\"font-weight: normal;\">安选</i>\n",
              "<i class=\"house-icon house-icon-default border-line\">\n",
              "                        真实在售                    </i>\n",
              "</div>\n",
              "<div class=\"details-item\">\n",
              "<span>2室1厅</span><em class=\"spe-lines\">|</em><span>49m²</span><em class=\"spe-lines\">|</em><span>中层(共32层)</span><em class=\"spe-lines\">|</em><span>2006年建造</span><span class=\"brokername\"><i class=\"iconfont\"></i>邓远国</span> </div>\n",
              "<div class=\"details-item\">\n",
              "<span class=\"comm-address\" title=\"星海名城(五期)  南山-前海-前海路\">\n",
              "                    星海名城(五期)  \n",
              "                    南山-前海-前海路                </span>\n",
              "</div>\n",
              "<div class=\"tags-bottom\">\n",
              "<span class=\"item-tags tag-others\">近地铁</span><span class=\"item-tags tag-others\">配套成熟</span><span class=\"item-tags tag-others\">环境优美</span>\n",
              "</div>\n",
              "</div>\n",
              "<div class=\"pro-price\">\n",
              "<span class=\"price-det\"><strong>350</strong>万</span><span class=\"unit-price\">71370元/m²</span> </div>\n",
              "</li>"
            ]
          },
          "metadata": {
            "tags": []
          },
          "execution_count": 9
        }
      ]
    },
    {
      "metadata": {
        "colab_type": "code",
        "id": "iDsOYjXv8u3B",
        "outputId": "f03f0261-1cbf-475b-d5a2-6264b9dc9536",
        "colab": {
          "base_uri": "https://localhost:8080/",
          "height": 34
        }
      },
      "cell_type": "code",
      "source": [
        "re.search('\\d+',house_containers[0].find_all('span',class_='unit-price')[0].text)[0]"
      ],
      "execution_count": 10,
      "outputs": [
        {
          "output_type": "execute_result",
          "data": {
            "text/plain": [
              "'71370'"
            ]
          },
          "metadata": {
            "tags": []
          },
          "execution_count": 10
        }
      ]
    },
    {
      "metadata": {
        "colab_type": "code",
        "id": "YJHc89vo8dHP",
        "outputId": "a85eee42-8d31-4089-fe3a-5b7ff8c1ea0c",
        "colab": {
          "base_uri": "https://localhost:8080/",
          "height": 34
        }
      },
      "cell_type": "code",
      "source": [
        "house_containers[0].find_all('span',class_='comm-address')[0].text.replace('\\xa0','').split()"
      ],
      "execution_count": 11,
      "outputs": [
        {
          "output_type": "execute_result",
          "data": {
            "text/plain": [
              "['星海名城(五期)', '南山-前海-前海路']"
            ]
          },
          "metadata": {
            "tags": []
          },
          "execution_count": 11
        }
      ]
    },
    {
      "metadata": {
        "colab_type": "code",
        "id": "EQogFzkg9uSD",
        "outputId": "44335883-7918-401b-beb4-7da5d06a51b5",
        "colab": {
          "base_uri": "https://localhost:8080/",
          "height": 34
        }
      },
      "cell_type": "code",
      "source": [
        "house_containers[0].find_all('div',class_='details-item')[0].text.strip().replace('\\ue147','|').split('|')"
      ],
      "execution_count": 12,
      "outputs": [
        {
          "output_type": "execute_result",
          "data": {
            "text/plain": [
              "['2室1厅', '49m²', '中层(共32层)', '2006年建造', '邓远国']"
            ]
          },
          "metadata": {
            "tags": []
          },
          "execution_count": 12
        }
      ]
    },
    {
      "metadata": {
        "colab_type": "code",
        "id": "WQuwwxdBLV5_",
        "outputId": "aad05cdc-1053-4f93-8a63-85757a065688",
        "colab": {
          "base_uri": "https://localhost:8080/",
          "height": 34
        }
      },
      "cell_type": "code",
      "source": [
        "re.search('\\d+','89m²')[0]"
      ],
      "execution_count": 13,
      "outputs": [
        {
          "output_type": "execute_result",
          "data": {
            "text/plain": [
              "'89'"
            ]
          },
          "metadata": {
            "tags": []
          },
          "execution_count": 13
        }
      ]
    },
    {
      "metadata": {
        "colab_type": "code",
        "id": "vePFdujFsf0O",
        "colab": {}
      },
      "cell_type": "code",
      "source": [
        "created = []\n",
        "unit_prices = []\n",
        "total_prices = []\n",
        "areas = []\n",
        "constructs = []\n",
        "floors = []\n",
        "dates = []\n",
        "re_names = []\n",
        "zones = []\n",
        "descriptions = []\n",
        "urls = []"
      ],
      "execution_count": 0,
      "outputs": []
    },
    {
      "metadata": {
        "colab_type": "code",
        "id": "SQtb-1gpsk4U",
        "outputId": "deee3c86-8309-423d-d821-1800f2af10c1",
        "colab": {
          "base_uri": "https://localhost:8080/",
          "height": 68
        }
      },
      "cell_type": "code",
      "source": [
        "%%time\n",
        "n_page = 0\n",
        "for page in range(0,50):\n",
        "    n_page += 1\n",
        "    url = 'https://shenzhen.anjuke.com/sale/p' + str(n_page)\n",
        "    r = get(url,headers=headers)\n",
        "    page_html = BeautifulSoup(r.text,'html.parser')\n",
        "    house_containers = page_html.find_all('li',class_='list-item')\n",
        "#     print(page_html)\n",
        "    if house_containers != []:\n",
        "        for container in house_containers:\n",
        "            #price\n",
        "            total_price = float(container.find_all('strong')[0].text) * 10000 \n",
        "            unit_price = int(re.search('\\d+',container.find_all('span',class_='unit-price')[0].text)[0])\n",
        "            unit_prices.append(unit_price)\n",
        "            total_prices.append(total_price)\n",
        "            #zone,name\n",
        "            name,zone = container.find_all('span',class_='comm-address')[0].text.replace('\\xa0','').split()\n",
        "            re_names.append(name)\n",
        "            zones.append(zone)\n",
        "            #tags\n",
        "            con,area,floor,date,_ = container.find_all('div',class_='details-item')[0].text.strip().replace('\\ue147','|').split('|')\n",
        "            constructs.append(con)\n",
        "            area = int(re.search('\\d+',area)[0])\n",
        "            areas.append(area)\n",
        "            floors.append(floor)\n",
        "            dates.append(date)\n",
        "    else:\n",
        "        break\n",
        "    time.sleep(5)\n",
        "\n",
        "print('Scraped {} pages containing {} properties.'.format(n_page,len(re_names)))"
      ],
      "execution_count": 15,
      "outputs": [
        {
          "output_type": "stream",
          "text": [
            "Scraped 50 pages containing 3000 properties.\n",
            "CPU times: user 15.2 s, sys: 113 ms, total: 15.3 s\n",
            "Wall time: 6min 57s\n"
          ],
          "name": "stdout"
        }
      ]
    },
    {
      "metadata": {
        "colab_type": "code",
        "id": "YzAT_fDgMJi8",
        "colab": {}
      },
      "cell_type": "code",
      "source": [
        "shenzhen = pd.DataFrame({'name':re_names,\n",
        "                                     'zone':zones,'size':areas,'floor':floors,'construct':constructs,'date':date,'unit_price':unit_prices,'total_price':total_prices\n",
        "                        })"
      ],
      "execution_count": 0,
      "outputs": []
    },
    {
      "metadata": {
        "colab_type": "code",
        "id": "ci3j1KAoNglA",
        "colab": {
          "base_uri": "https://localhost:8080/",
          "height": 1969
        },
        "outputId": "f12393a5-e87e-4de3-e84a-eec222ad4c24"
      },
      "cell_type": "code",
      "source": [
        "shenzhen"
      ],
      "execution_count": 17,
      "outputs": [
        {
          "output_type": "execute_result",
          "data": {
            "text/html": [
              "<div>\n",
              "<style scoped>\n",
              "    .dataframe tbody tr th:only-of-type {\n",
              "        vertical-align: middle;\n",
              "    }\n",
              "\n",
              "    .dataframe tbody tr th {\n",
              "        vertical-align: top;\n",
              "    }\n",
              "\n",
              "    .dataframe thead th {\n",
              "        text-align: right;\n",
              "    }\n",
              "</style>\n",
              "<table border=\"1\" class=\"dataframe\">\n",
              "  <thead>\n",
              "    <tr style=\"text-align: right;\">\n",
              "      <th></th>\n",
              "      <th>name</th>\n",
              "      <th>zone</th>\n",
              "      <th>size</th>\n",
              "      <th>floor</th>\n",
              "      <th>construct</th>\n",
              "      <th>date</th>\n",
              "      <th>unit_price</th>\n",
              "      <th>total_price</th>\n",
              "    </tr>\n",
              "  </thead>\n",
              "  <tbody>\n",
              "    <tr>\n",
              "      <th>0</th>\n",
              "      <td>怡瑞达乐郡</td>\n",
              "      <td>龙岗-龙岗中心城-深汕路418号</td>\n",
              "      <td>89</td>\n",
              "      <td>低层(共30层)</td>\n",
              "      <td>3室1厅</td>\n",
              "      <td>2011年建造</td>\n",
              "      <td>33258</td>\n",
              "      <td>2960000.0</td>\n",
              "    </tr>\n",
              "    <tr>\n",
              "      <th>1</th>\n",
              "      <td>传麒尚林一期</td>\n",
              "      <td>龙岗-龙岗中心城-丰田路</td>\n",
              "      <td>87</td>\n",
              "      <td>中层(共33层)</td>\n",
              "      <td>3室2厅</td>\n",
              "      <td>2011年建造</td>\n",
              "      <td>32996</td>\n",
              "      <td>2900000.0</td>\n",
              "    </tr>\n",
              "    <tr>\n",
              "      <th>2</th>\n",
              "      <td>传麒尚林一期</td>\n",
              "      <td>龙岗-龙岗中心城-丰田路</td>\n",
              "      <td>88</td>\n",
              "      <td>中层(共33层)</td>\n",
              "      <td>3室1厅</td>\n",
              "      <td>2011年建造</td>\n",
              "      <td>32947</td>\n",
              "      <td>2900000.0</td>\n",
              "    </tr>\n",
              "    <tr>\n",
              "      <th>3</th>\n",
              "      <td>振业峦山谷</td>\n",
              "      <td>龙岗-横岗-宝龙大道81号</td>\n",
              "      <td>89</td>\n",
              "      <td>低层(共32层)</td>\n",
              "      <td>3室2厅</td>\n",
              "      <td>2011年建造</td>\n",
              "      <td>31869</td>\n",
              "      <td>2850000.0</td>\n",
              "    </tr>\n",
              "    <tr>\n",
              "      <th>4</th>\n",
              "      <td>传麒尚林一期</td>\n",
              "      <td>龙岗-龙岗中心城-丰田路</td>\n",
              "      <td>87</td>\n",
              "      <td>中层(共32层)</td>\n",
              "      <td>3室2厅</td>\n",
              "      <td>2011年建造</td>\n",
              "      <td>32511</td>\n",
              "      <td>2860000.0</td>\n",
              "    </tr>\n",
              "    <tr>\n",
              "      <th>5</th>\n",
              "      <td>振业天峦</td>\n",
              "      <td>龙岗-龙岗中心城-宝沙一路1号</td>\n",
              "      <td>88</td>\n",
              "      <td>高层(共33层)</td>\n",
              "      <td>3室2厅</td>\n",
              "      <td>2011年建造</td>\n",
              "      <td>31746</td>\n",
              "      <td>2800000.0</td>\n",
              "    </tr>\n",
              "    <tr>\n",
              "      <th>6</th>\n",
              "      <td>振业天峦</td>\n",
              "      <td>龙岗-龙岗中心城-宝沙一路1号</td>\n",
              "      <td>89</td>\n",
              "      <td>低层(共33层)</td>\n",
              "      <td>3室2厅</td>\n",
              "      <td>2011年建造</td>\n",
              "      <td>32229</td>\n",
              "      <td>2880000.0</td>\n",
              "    </tr>\n",
              "    <tr>\n",
              "      <th>7</th>\n",
              "      <td>中骏云景府</td>\n",
              "      <td>龙岗-龙岗中心城-深汕路龙岗段277号</td>\n",
              "      <td>94</td>\n",
              "      <td>低层(共35层)</td>\n",
              "      <td>3室2厅</td>\n",
              "      <td>2011年建造</td>\n",
              "      <td>30957</td>\n",
              "      <td>2910000.0</td>\n",
              "    </tr>\n",
              "    <tr>\n",
              "      <th>8</th>\n",
              "      <td>海航国兴城</td>\n",
              "      <td>龙岗-龙岗中心城-碧新路</td>\n",
              "      <td>85</td>\n",
              "      <td>高层(共30层)</td>\n",
              "      <td>3室2厅</td>\n",
              "      <td>2011年建造</td>\n",
              "      <td>33801</td>\n",
              "      <td>2890000.0</td>\n",
              "    </tr>\n",
              "    <tr>\n",
              "      <th>9</th>\n",
              "      <td>怡瑞达乐郡</td>\n",
              "      <td>龙岗-龙岗中心城-深汕路418号</td>\n",
              "      <td>89</td>\n",
              "      <td>中层(共31层)</td>\n",
              "      <td>3室2厅</td>\n",
              "      <td>2011年建造</td>\n",
              "      <td>31775</td>\n",
              "      <td>2828000.0</td>\n",
              "    </tr>\n",
              "    <tr>\n",
              "      <th>10</th>\n",
              "      <td>中骏四季阳光</td>\n",
              "      <td>龙岗-龙岗中心城-深汕公路</td>\n",
              "      <td>85</td>\n",
              "      <td>低层(共32层)</td>\n",
              "      <td>3室2厅</td>\n",
              "      <td>2011年建造</td>\n",
              "      <td>33529</td>\n",
              "      <td>2850000.0</td>\n",
              "    </tr>\n",
              "    <tr>\n",
              "      <th>11</th>\n",
              "      <td>怡瑞达乐郡</td>\n",
              "      <td>龙岗-龙岗中心城-深汕路418号</td>\n",
              "      <td>89</td>\n",
              "      <td>中层(共32层)</td>\n",
              "      <td>3室2厅</td>\n",
              "      <td>2011年建造</td>\n",
              "      <td>33146</td>\n",
              "      <td>2950000.0</td>\n",
              "    </tr>\n",
              "    <tr>\n",
              "      <th>12</th>\n",
              "      <td>传麒尚林二期</td>\n",
              "      <td>龙岗-龙岗中心城-龙凤路</td>\n",
              "      <td>89</td>\n",
              "      <td>中层(共33层)</td>\n",
              "      <td>3室2厅</td>\n",
              "      <td>2011年建造</td>\n",
              "      <td>33596</td>\n",
              "      <td>2990000.0</td>\n",
              "    </tr>\n",
              "    <tr>\n",
              "      <th>13</th>\n",
              "      <td>传麒尚林一期</td>\n",
              "      <td>龙岗-龙岗中心城-丰田路</td>\n",
              "      <td>87</td>\n",
              "      <td>中层(共32层)</td>\n",
              "      <td>3室2厅</td>\n",
              "      <td>2011年建造</td>\n",
              "      <td>32427</td>\n",
              "      <td>2850000.0</td>\n",
              "    </tr>\n",
              "    <tr>\n",
              "      <th>14</th>\n",
              "      <td>传麒尚林一期</td>\n",
              "      <td>龙岗-龙岗中心城-丰田路</td>\n",
              "      <td>88</td>\n",
              "      <td>高层(共32层)</td>\n",
              "      <td>3室2厅</td>\n",
              "      <td>2011年建造</td>\n",
              "      <td>33311</td>\n",
              "      <td>2950000.0</td>\n",
              "    </tr>\n",
              "    <tr>\n",
              "      <th>15</th>\n",
              "      <td>怡瑞达乐郡</td>\n",
              "      <td>龙岗-龙岗中心城-深汕路418号</td>\n",
              "      <td>85</td>\n",
              "      <td>低层(共32层)</td>\n",
              "      <td>3室2厅</td>\n",
              "      <td>2011年建造</td>\n",
              "      <td>33647</td>\n",
              "      <td>2860000.0</td>\n",
              "    </tr>\n",
              "    <tr>\n",
              "      <th>16</th>\n",
              "      <td>怡瑞达乐郡</td>\n",
              "      <td>龙岗-龙岗中心城-深汕路418号</td>\n",
              "      <td>89</td>\n",
              "      <td>高层(共30层)</td>\n",
              "      <td>3室2厅</td>\n",
              "      <td>2011年建造</td>\n",
              "      <td>31494</td>\n",
              "      <td>2803000.0</td>\n",
              "    </tr>\n",
              "    <tr>\n",
              "      <th>17</th>\n",
              "      <td>中骏四季阳光</td>\n",
              "      <td>龙岗-龙岗中心城-深汕公路</td>\n",
              "      <td>85</td>\n",
              "      <td>高层(共31层)</td>\n",
              "      <td>3室2厅</td>\n",
              "      <td>2011年建造</td>\n",
              "      <td>32941</td>\n",
              "      <td>2800000.0</td>\n",
              "    </tr>\n",
              "    <tr>\n",
              "      <th>18</th>\n",
              "      <td>怡瑞达乐郡</td>\n",
              "      <td>龙岗-龙岗中心城-深汕路418号</td>\n",
              "      <td>85</td>\n",
              "      <td>高层(共33层)</td>\n",
              "      <td>3室2厅</td>\n",
              "      <td>2011年建造</td>\n",
              "      <td>34579</td>\n",
              "      <td>2960000.0</td>\n",
              "    </tr>\n",
              "    <tr>\n",
              "      <th>19</th>\n",
              "      <td>朗泓龙园大观</td>\n",
              "      <td>龙岗-龙岗中心城-福宁路189号</td>\n",
              "      <td>89</td>\n",
              "      <td>中层(共34层)</td>\n",
              "      <td>3室2厅</td>\n",
              "      <td>2011年建造</td>\n",
              "      <td>33596</td>\n",
              "      <td>2990000.0</td>\n",
              "    </tr>\n",
              "    <tr>\n",
              "      <th>20</th>\n",
              "      <td>怡龙枫景园</td>\n",
              "      <td>龙岗-龙岗中心城-建新路8号</td>\n",
              "      <td>89</td>\n",
              "      <td>中层(共31层)</td>\n",
              "      <td>3室2厅</td>\n",
              "      <td>2011年建造</td>\n",
              "      <td>32113</td>\n",
              "      <td>2860000.0</td>\n",
              "    </tr>\n",
              "    <tr>\n",
              "      <th>21</th>\n",
              "      <td>中骏云景府</td>\n",
              "      <td>龙岗-龙岗中心城-深汕路龙岗段277号</td>\n",
              "      <td>95</td>\n",
              "      <td>中层(共31层)</td>\n",
              "      <td>3室2厅</td>\n",
              "      <td>2011年建造</td>\n",
              "      <td>30316</td>\n",
              "      <td>2880000.0</td>\n",
              "    </tr>\n",
              "    <tr>\n",
              "      <th>22</th>\n",
              "      <td>中骏云景府</td>\n",
              "      <td>龙岗-龙岗中心城-深汕路龙岗段277号</td>\n",
              "      <td>82</td>\n",
              "      <td>中层(共32层)</td>\n",
              "      <td>3室2厅</td>\n",
              "      <td>2011年建造</td>\n",
              "      <td>34146</td>\n",
              "      <td>2800000.0</td>\n",
              "    </tr>\n",
              "    <tr>\n",
              "      <th>23</th>\n",
              "      <td>远洋新干线(一期)</td>\n",
              "      <td>龙岗-龙岗中心城-南联社区怡丰路2号</td>\n",
              "      <td>86</td>\n",
              "      <td>高层(共31层)</td>\n",
              "      <td>3室2厅</td>\n",
              "      <td>2011年建造</td>\n",
              "      <td>32501</td>\n",
              "      <td>2800000.0</td>\n",
              "    </tr>\n",
              "    <tr>\n",
              "      <th>24</th>\n",
              "      <td>振业峦山谷</td>\n",
              "      <td>龙岗-横岗-宝龙大道81号</td>\n",
              "      <td>87</td>\n",
              "      <td>低层(共32层)</td>\n",
              "      <td>3室2厅</td>\n",
              "      <td>2011年建造</td>\n",
              "      <td>32893</td>\n",
              "      <td>2890000.0</td>\n",
              "    </tr>\n",
              "    <tr>\n",
              "      <th>25</th>\n",
              "      <td>怡瑞达乐郡</td>\n",
              "      <td>龙岗-龙岗中心城-深汕路418号</td>\n",
              "      <td>85</td>\n",
              "      <td>中层(共33层)</td>\n",
              "      <td>3室2厅</td>\n",
              "      <td>2011年建造</td>\n",
              "      <td>33882</td>\n",
              "      <td>2880000.0</td>\n",
              "    </tr>\n",
              "    <tr>\n",
              "      <th>26</th>\n",
              "      <td>中骏云景府</td>\n",
              "      <td>龙岗-龙岗中心城-深汕路龙岗段277号</td>\n",
              "      <td>95</td>\n",
              "      <td>高层(共30层)</td>\n",
              "      <td>3室2厅</td>\n",
              "      <td>2011年建造</td>\n",
              "      <td>30368</td>\n",
              "      <td>2885000.0</td>\n",
              "    </tr>\n",
              "    <tr>\n",
              "      <th>27</th>\n",
              "      <td>传麒尚林一期</td>\n",
              "      <td>龙岗-龙岗中心城-丰田路</td>\n",
              "      <td>89</td>\n",
              "      <td>中层(共32层)</td>\n",
              "      <td>3室2厅</td>\n",
              "      <td>2011年建造</td>\n",
              "      <td>32269</td>\n",
              "      <td>2900000.0</td>\n",
              "    </tr>\n",
              "    <tr>\n",
              "      <th>28</th>\n",
              "      <td>怡瑞达乐郡</td>\n",
              "      <td>龙岗-龙岗中心城-深汕路418号</td>\n",
              "      <td>89</td>\n",
              "      <td>低层(共31层)</td>\n",
              "      <td>3室1厅</td>\n",
              "      <td>2011年建造</td>\n",
              "      <td>32472</td>\n",
              "      <td>2890000.0</td>\n",
              "    </tr>\n",
              "    <tr>\n",
              "      <th>29</th>\n",
              "      <td>海航国兴城</td>\n",
              "      <td>龙岗-龙岗中心城-碧新路</td>\n",
              "      <td>89</td>\n",
              "      <td>高层(共30层)</td>\n",
              "      <td>3室2厅</td>\n",
              "      <td>2011年建造</td>\n",
              "      <td>32584</td>\n",
              "      <td>2900000.0</td>\n",
              "    </tr>\n",
              "    <tr>\n",
              "      <th>...</th>\n",
              "      <td>...</td>\n",
              "      <td>...</td>\n",
              "      <td>...</td>\n",
              "      <td>...</td>\n",
              "      <td>...</td>\n",
              "      <td>...</td>\n",
              "      <td>...</td>\n",
              "      <td>...</td>\n",
              "    </tr>\n",
              "    <tr>\n",
              "      <th>2970</th>\n",
              "      <td>合正观澜汇</td>\n",
              "      <td>龙华-观澜-观澜大道115号</td>\n",
              "      <td>80</td>\n",
              "      <td>中层(共31层)</td>\n",
              "      <td>3室2厅</td>\n",
              "      <td>2011年建造</td>\n",
              "      <td>47500</td>\n",
              "      <td>3800000.0</td>\n",
              "    </tr>\n",
              "    <tr>\n",
              "      <th>2971</th>\n",
              "      <td>联城美园</td>\n",
              "      <td>罗湖-人民南-新安路59号</td>\n",
              "      <td>56</td>\n",
              "      <td>高层(共35层)</td>\n",
              "      <td>2室2厅</td>\n",
              "      <td>2011年建造</td>\n",
              "      <td>51155</td>\n",
              "      <td>2900000.0</td>\n",
              "    </tr>\n",
              "    <tr>\n",
              "      <th>2972</th>\n",
              "      <td>天福华府</td>\n",
              "      <td>宝安-福永-金乡一路</td>\n",
              "      <td>88</td>\n",
              "      <td>高层(共25层)</td>\n",
              "      <td>3室2厅</td>\n",
              "      <td>2011年建造</td>\n",
              "      <td>47758</td>\n",
              "      <td>4250000.0</td>\n",
              "    </tr>\n",
              "    <tr>\n",
              "      <th>2973</th>\n",
              "      <td>创业二村</td>\n",
              "      <td>宝安-新安-群力一路1号</td>\n",
              "      <td>97</td>\n",
              "      <td>中层(共8层)</td>\n",
              "      <td>3室2厅</td>\n",
              "      <td>2011年建造</td>\n",
              "      <td>49296</td>\n",
              "      <td>4800000.0</td>\n",
              "    </tr>\n",
              "    <tr>\n",
              "      <th>2974</th>\n",
              "      <td>万科麓城(三期)</td>\n",
              "      <td>龙岗-布吉街-布龙路</td>\n",
              "      <td>88</td>\n",
              "      <td>中层(共41层)</td>\n",
              "      <td>3室2厅</td>\n",
              "      <td>2011年建造</td>\n",
              "      <td>49531</td>\n",
              "      <td>4380000.0</td>\n",
              "    </tr>\n",
              "    <tr>\n",
              "      <th>2975</th>\n",
              "      <td>京基御景印象二期</td>\n",
              "      <td>坪山-坪山-牛角龙路</td>\n",
              "      <td>100</td>\n",
              "      <td>高层(共33层)</td>\n",
              "      <td>3室2厅</td>\n",
              "      <td>2011年建造</td>\n",
              "      <td>30000</td>\n",
              "      <td>3000000.0</td>\n",
              "    </tr>\n",
              "    <tr>\n",
              "      <th>2976</th>\n",
              "      <td>银信中心</td>\n",
              "      <td>龙岗-横岗-龙岗大道,近松柏路</td>\n",
              "      <td>72</td>\n",
              "      <td>高层(共30层)</td>\n",
              "      <td>3室2厅</td>\n",
              "      <td>2011年建造</td>\n",
              "      <td>46528</td>\n",
              "      <td>3350000.0</td>\n",
              "    </tr>\n",
              "    <tr>\n",
              "      <th>2977</th>\n",
              "      <td>慢城(一至三期)</td>\n",
              "      <td>龙岗-木棉湾-科技园路8号</td>\n",
              "      <td>87</td>\n",
              "      <td>高层(共18层)</td>\n",
              "      <td>3室2厅</td>\n",
              "      <td>2011年建造</td>\n",
              "      <td>44253</td>\n",
              "      <td>3850000.0</td>\n",
              "    </tr>\n",
              "    <tr>\n",
              "      <th>2978</th>\n",
              "      <td>勤诚达正大城</td>\n",
              "      <td>光明-公明-光侨路与7号</td>\n",
              "      <td>98</td>\n",
              "      <td>中层(共45层)</td>\n",
              "      <td>3室2厅</td>\n",
              "      <td>2011年建造</td>\n",
              "      <td>39796</td>\n",
              "      <td>3900000.0</td>\n",
              "    </tr>\n",
              "    <tr>\n",
              "      <th>2979</th>\n",
              "      <td>京基御景印象一期</td>\n",
              "      <td>坪山-坪山-体育二路</td>\n",
              "      <td>88</td>\n",
              "      <td>高层(共33层)</td>\n",
              "      <td>4室2厅</td>\n",
              "      <td>2011年建造</td>\n",
              "      <td>34091</td>\n",
              "      <td>3000000.0</td>\n",
              "    </tr>\n",
              "    <tr>\n",
              "      <th>2980</th>\n",
              "      <td>深物业前海港湾花园</td>\n",
              "      <td>南山-前海-月亮湾大道</td>\n",
              "      <td>81</td>\n",
              "      <td>中层(共34层)</td>\n",
              "      <td>3室2厅</td>\n",
              "      <td>2011年建造</td>\n",
              "      <td>70665</td>\n",
              "      <td>5750000.0</td>\n",
              "    </tr>\n",
              "    <tr>\n",
              "      <th>2981</th>\n",
              "      <td>锦荟PARK</td>\n",
              "      <td>龙岗-横岗-龙岗大道</td>\n",
              "      <td>89</td>\n",
              "      <td>低层(共33层)</td>\n",
              "      <td>3室2厅</td>\n",
              "      <td>2011年建造</td>\n",
              "      <td>42135</td>\n",
              "      <td>3750000.0</td>\n",
              "    </tr>\n",
              "    <tr>\n",
              "      <th>2982</th>\n",
              "      <td>万科金色家园</td>\n",
              "      <td>福田-景田-莲花路2018号</td>\n",
              "      <td>87</td>\n",
              "      <td>中层(共23层)</td>\n",
              "      <td>3室2厅</td>\n",
              "      <td>2011年建造</td>\n",
              "      <td>78506</td>\n",
              "      <td>6830000.0</td>\n",
              "    </tr>\n",
              "    <tr>\n",
              "      <th>2983</th>\n",
              "      <td>向南瑞峰花园</td>\n",
              "      <td>南山-桂庙路口-桂庙路22号</td>\n",
              "      <td>94</td>\n",
              "      <td>高层(共26层)</td>\n",
              "      <td>3室2厅</td>\n",
              "      <td>2011年建造</td>\n",
              "      <td>69149</td>\n",
              "      <td>6500000.0</td>\n",
              "    </tr>\n",
              "    <tr>\n",
              "      <th>2984</th>\n",
              "      <td>招东小区</td>\n",
              "      <td>南山-蛇口-招商路50号</td>\n",
              "      <td>92</td>\n",
              "      <td>低层(共8层)</td>\n",
              "      <td>3室2厅</td>\n",
              "      <td>2011年建造</td>\n",
              "      <td>55978</td>\n",
              "      <td>5150000.0</td>\n",
              "    </tr>\n",
              "    <tr>\n",
              "      <th>2985</th>\n",
              "      <td>星海名城(三期)</td>\n",
              "      <td>南山-前海-前海路3101号</td>\n",
              "      <td>93</td>\n",
              "      <td>高层(共28层)</td>\n",
              "      <td>3室2厅</td>\n",
              "      <td>2011年建造</td>\n",
              "      <td>67727</td>\n",
              "      <td>6300000.0</td>\n",
              "    </tr>\n",
              "    <tr>\n",
              "      <th>2986</th>\n",
              "      <td>中城康桥花园二期</td>\n",
              "      <td>龙岗-丹竹头-李朗大道</td>\n",
              "      <td>85</td>\n",
              "      <td>低层(共12层)</td>\n",
              "      <td>3室2厅</td>\n",
              "      <td>2011年建造</td>\n",
              "      <td>34973</td>\n",
              "      <td>3000000.0</td>\n",
              "    </tr>\n",
              "    <tr>\n",
              "      <th>2987</th>\n",
              "      <td>万科天誉二期</td>\n",
              "      <td>龙岗-龙岗中心城-龙岗大道</td>\n",
              "      <td>89</td>\n",
              "      <td>低层(共50层)</td>\n",
              "      <td>3室2厅</td>\n",
              "      <td>2011年建造</td>\n",
              "      <td>45688</td>\n",
              "      <td>4100000.0</td>\n",
              "    </tr>\n",
              "    <tr>\n",
              "      <th>2988</th>\n",
              "      <td>荔湖花苑</td>\n",
              "      <td>福田-园岭-红荔路1068号</td>\n",
              "      <td>98</td>\n",
              "      <td>中层(共28层)</td>\n",
              "      <td>3室2厅</td>\n",
              "      <td>2011年建造</td>\n",
              "      <td>79592</td>\n",
              "      <td>7800000.0</td>\n",
              "    </tr>\n",
              "    <tr>\n",
              "      <th>2989</th>\n",
              "      <td>鼎峰悦境</td>\n",
              "      <td>深圳周边-东莞-霄边大街98号</td>\n",
              "      <td>88</td>\n",
              "      <td>中层(共30层)</td>\n",
              "      <td>3室2厅</td>\n",
              "      <td>2011年建造</td>\n",
              "      <td>29091</td>\n",
              "      <td>2560000.0</td>\n",
              "    </tr>\n",
              "    <tr>\n",
              "      <th>2990</th>\n",
              "      <td>和公馆</td>\n",
              "      <td>龙华-民治-民塘路</td>\n",
              "      <td>87</td>\n",
              "      <td>中层(共29层)</td>\n",
              "      <td>3室2厅</td>\n",
              "      <td>2011年建造</td>\n",
              "      <td>59770</td>\n",
              "      <td>5200000.0</td>\n",
              "    </tr>\n",
              "    <tr>\n",
              "      <th>2991</th>\n",
              "      <td>信和爱琴居</td>\n",
              "      <td>龙岗-大芬-深惠路303号</td>\n",
              "      <td>81</td>\n",
              "      <td>高层(共32层)</td>\n",
              "      <td>2室2厅</td>\n",
              "      <td>2011年建造</td>\n",
              "      <td>33825</td>\n",
              "      <td>2750000.0</td>\n",
              "    </tr>\n",
              "    <tr>\n",
              "      <th>2992</th>\n",
              "      <td>百合盛世</td>\n",
              "      <td>龙岗-龙岗中心城-友谊路35号</td>\n",
              "      <td>87</td>\n",
              "      <td>中层(共32层)</td>\n",
              "      <td>4室2厅</td>\n",
              "      <td>2011年建造</td>\n",
              "      <td>39022</td>\n",
              "      <td>3400000.0</td>\n",
              "    </tr>\n",
              "    <tr>\n",
              "      <th>2993</th>\n",
              "      <td>红树西岸</td>\n",
              "      <td>南山-华侨城-深湾一路3号</td>\n",
              "      <td>145</td>\n",
              "      <td>中层(共32层)</td>\n",
              "      <td>3室2厅</td>\n",
              "      <td>2011年建造</td>\n",
              "      <td>124044</td>\n",
              "      <td>18000000.0</td>\n",
              "    </tr>\n",
              "    <tr>\n",
              "      <th>2994</th>\n",
              "      <td>振业峦山谷</td>\n",
              "      <td>龙岗-横岗-宝龙大道81号</td>\n",
              "      <td>89</td>\n",
              "      <td>高层(共33层)</td>\n",
              "      <td>3室2厅</td>\n",
              "      <td>2011年建造</td>\n",
              "      <td>31537</td>\n",
              "      <td>2820000.0</td>\n",
              "    </tr>\n",
              "    <tr>\n",
              "      <th>2995</th>\n",
              "      <td>志健时代广场</td>\n",
              "      <td>龙岗-横岗-茂盛路1号</td>\n",
              "      <td>106</td>\n",
              "      <td>低层(共33层)</td>\n",
              "      <td>3室2厅</td>\n",
              "      <td>2011年建造</td>\n",
              "      <td>30565</td>\n",
              "      <td>3250000.0</td>\n",
              "    </tr>\n",
              "    <tr>\n",
              "      <th>2996</th>\n",
              "      <td>京基御景印象三期</td>\n",
              "      <td>坪山-坪山-振环路</td>\n",
              "      <td>89</td>\n",
              "      <td>中层(共40层)</td>\n",
              "      <td>3室2厅</td>\n",
              "      <td>2011年建造</td>\n",
              "      <td>32809</td>\n",
              "      <td>2920000.0</td>\n",
              "    </tr>\n",
              "    <tr>\n",
              "      <th>2997</th>\n",
              "      <td>现代城华庭</td>\n",
              "      <td>南山-南山地铁口-南光路17号</td>\n",
              "      <td>81</td>\n",
              "      <td>低层(共33层)</td>\n",
              "      <td>2室2厅</td>\n",
              "      <td>2011年建造</td>\n",
              "      <td>56093</td>\n",
              "      <td>4580000.0</td>\n",
              "    </tr>\n",
              "    <tr>\n",
              "      <th>2998</th>\n",
              "      <td>侨信云起</td>\n",
              "      <td>深圳周边-东莞-黎塘三路8号</td>\n",
              "      <td>99</td>\n",
              "      <td>中层(共12层)</td>\n",
              "      <td>3室2厅</td>\n",
              "      <td>2011年建造</td>\n",
              "      <td>22727</td>\n",
              "      <td>2250000.0</td>\n",
              "    </tr>\n",
              "    <tr>\n",
              "      <th>2999</th>\n",
              "      <td>万科翰邻城</td>\n",
              "      <td>龙岗-龙岗中心城-龙平路28号</td>\n",
              "      <td>89</td>\n",
              "      <td>中层(共32层)</td>\n",
              "      <td>3室2厅</td>\n",
              "      <td>2011年建造</td>\n",
              "      <td>42491</td>\n",
              "      <td>3800000.0</td>\n",
              "    </tr>\n",
              "  </tbody>\n",
              "</table>\n",
              "<p>3000 rows × 8 columns</p>\n",
              "</div>"
            ],
            "text/plain": [
              "           name                 zone  size     floor construct     date  \\\n",
              "0         怡瑞达乐郡     龙岗-龙岗中心城-深汕路418号    89  低层(共30层)      3室1厅  2011年建造   \n",
              "1        传麒尚林一期         龙岗-龙岗中心城-丰田路    87  中层(共33层)      3室2厅  2011年建造   \n",
              "2        传麒尚林一期         龙岗-龙岗中心城-丰田路    88  中层(共33层)      3室1厅  2011年建造   \n",
              "3         振业峦山谷        龙岗-横岗-宝龙大道81号    89  低层(共32层)      3室2厅  2011年建造   \n",
              "4        传麒尚林一期         龙岗-龙岗中心城-丰田路    87  中层(共32层)      3室2厅  2011年建造   \n",
              "5          振业天峦      龙岗-龙岗中心城-宝沙一路1号    88  高层(共33层)      3室2厅  2011年建造   \n",
              "6          振业天峦      龙岗-龙岗中心城-宝沙一路1号    89  低层(共33层)      3室2厅  2011年建造   \n",
              "7         中骏云景府  龙岗-龙岗中心城-深汕路龙岗段277号    94  低层(共35层)      3室2厅  2011年建造   \n",
              "8         海航国兴城         龙岗-龙岗中心城-碧新路    85  高层(共30层)      3室2厅  2011年建造   \n",
              "9         怡瑞达乐郡     龙岗-龙岗中心城-深汕路418号    89  中层(共31层)      3室2厅  2011年建造   \n",
              "10       中骏四季阳光        龙岗-龙岗中心城-深汕公路    85  低层(共32层)      3室2厅  2011年建造   \n",
              "11        怡瑞达乐郡     龙岗-龙岗中心城-深汕路418号    89  中层(共32层)      3室2厅  2011年建造   \n",
              "12       传麒尚林二期         龙岗-龙岗中心城-龙凤路    89  中层(共33层)      3室2厅  2011年建造   \n",
              "13       传麒尚林一期         龙岗-龙岗中心城-丰田路    87  中层(共32层)      3室2厅  2011年建造   \n",
              "14       传麒尚林一期         龙岗-龙岗中心城-丰田路    88  高层(共32层)      3室2厅  2011年建造   \n",
              "15        怡瑞达乐郡     龙岗-龙岗中心城-深汕路418号    85  低层(共32层)      3室2厅  2011年建造   \n",
              "16        怡瑞达乐郡     龙岗-龙岗中心城-深汕路418号    89  高层(共30层)      3室2厅  2011年建造   \n",
              "17       中骏四季阳光        龙岗-龙岗中心城-深汕公路    85  高层(共31层)      3室2厅  2011年建造   \n",
              "18        怡瑞达乐郡     龙岗-龙岗中心城-深汕路418号    85  高层(共33层)      3室2厅  2011年建造   \n",
              "19       朗泓龙园大观     龙岗-龙岗中心城-福宁路189号    89  中层(共34层)      3室2厅  2011年建造   \n",
              "20        怡龙枫景园       龙岗-龙岗中心城-建新路8号    89  中层(共31层)      3室2厅  2011年建造   \n",
              "21        中骏云景府  龙岗-龙岗中心城-深汕路龙岗段277号    95  中层(共31层)      3室2厅  2011年建造   \n",
              "22        中骏云景府  龙岗-龙岗中心城-深汕路龙岗段277号    82  中层(共32层)      3室2厅  2011年建造   \n",
              "23    远洋新干线(一期)   龙岗-龙岗中心城-南联社区怡丰路2号    86  高层(共31层)      3室2厅  2011年建造   \n",
              "24        振业峦山谷        龙岗-横岗-宝龙大道81号    87  低层(共32层)      3室2厅  2011年建造   \n",
              "25        怡瑞达乐郡     龙岗-龙岗中心城-深汕路418号    85  中层(共33层)      3室2厅  2011年建造   \n",
              "26        中骏云景府  龙岗-龙岗中心城-深汕路龙岗段277号    95  高层(共30层)      3室2厅  2011年建造   \n",
              "27       传麒尚林一期         龙岗-龙岗中心城-丰田路    89  中层(共32层)      3室2厅  2011年建造   \n",
              "28        怡瑞达乐郡     龙岗-龙岗中心城-深汕路418号    89  低层(共31层)      3室1厅  2011年建造   \n",
              "29        海航国兴城         龙岗-龙岗中心城-碧新路    89  高层(共30层)      3室2厅  2011年建造   \n",
              "...         ...                  ...   ...       ...       ...      ...   \n",
              "2970      合正观澜汇       龙华-观澜-观澜大道115号    80  中层(共31层)      3室2厅  2011年建造   \n",
              "2971       联城美园        罗湖-人民南-新安路59号    56  高层(共35层)      2室2厅  2011年建造   \n",
              "2972       天福华府           宝安-福永-金乡一路    88  高层(共25层)      3室2厅  2011年建造   \n",
              "2973       创业二村         宝安-新安-群力一路1号    97   中层(共8层)      3室2厅  2011年建造   \n",
              "2974   万科麓城(三期)           龙岗-布吉街-布龙路    88  中层(共41层)      3室2厅  2011年建造   \n",
              "2975   京基御景印象二期           坪山-坪山-牛角龙路   100  高层(共33层)      3室2厅  2011年建造   \n",
              "2976       银信中心      龙岗-横岗-龙岗大道,近松柏路    72  高层(共30层)      3室2厅  2011年建造   \n",
              "2977   慢城(一至三期)        龙岗-木棉湾-科技园路8号    87  高层(共18层)      3室2厅  2011年建造   \n",
              "2978     勤诚达正大城         光明-公明-光侨路与7号    98  中层(共45层)      3室2厅  2011年建造   \n",
              "2979   京基御景印象一期           坪山-坪山-体育二路    88  高层(共33层)      4室2厅  2011年建造   \n",
              "2980  深物业前海港湾花园          南山-前海-月亮湾大道    81  中层(共34层)      3室2厅  2011年建造   \n",
              "2981     锦荟PARK           龙岗-横岗-龙岗大道    89  低层(共33层)      3室2厅  2011年建造   \n",
              "2982     万科金色家园       福田-景田-莲花路2018号    87  中层(共23层)      3室2厅  2011年建造   \n",
              "2983     向南瑞峰花园       南山-桂庙路口-桂庙路22号    94  高层(共26层)      3室2厅  2011年建造   \n",
              "2984       招东小区         南山-蛇口-招商路50号    92   低层(共8层)      3室2厅  2011年建造   \n",
              "2985   星海名城(三期)       南山-前海-前海路3101号    93  高层(共28层)      3室2厅  2011年建造   \n",
              "2986   中城康桥花园二期          龙岗-丹竹头-李朗大道    85  低层(共12层)      3室2厅  2011年建造   \n",
              "2987     万科天誉二期        龙岗-龙岗中心城-龙岗大道    89  低层(共50层)      3室2厅  2011年建造   \n",
              "2988       荔湖花苑       福田-园岭-红荔路1068号    98  中层(共28层)      3室2厅  2011年建造   \n",
              "2989       鼎峰悦境      深圳周边-东莞-霄边大街98号    88  中层(共30层)      3室2厅  2011年建造   \n",
              "2990        和公馆            龙华-民治-民塘路    87  中层(共29层)      3室2厅  2011年建造   \n",
              "2991      信和爱琴居        龙岗-大芬-深惠路303号    81  高层(共32层)      2室2厅  2011年建造   \n",
              "2992       百合盛世      龙岗-龙岗中心城-友谊路35号    87  中层(共32层)      4室2厅  2011年建造   \n",
              "2993       红树西岸        南山-华侨城-深湾一路3号   145  中层(共32层)      3室2厅  2011年建造   \n",
              "2994      振业峦山谷        龙岗-横岗-宝龙大道81号    89  高层(共33层)      3室2厅  2011年建造   \n",
              "2995     志健时代广场          龙岗-横岗-茂盛路1号   106  低层(共33层)      3室2厅  2011年建造   \n",
              "2996   京基御景印象三期            坪山-坪山-振环路    89  中层(共40层)      3室2厅  2011年建造   \n",
              "2997      现代城华庭      南山-南山地铁口-南光路17号    81  低层(共33层)      2室2厅  2011年建造   \n",
              "2998       侨信云起       深圳周边-东莞-黎塘三路8号    99  中层(共12层)      3室2厅  2011年建造   \n",
              "2999      万科翰邻城      龙岗-龙岗中心城-龙平路28号    89  中层(共32层)      3室2厅  2011年建造   \n",
              "\n",
              "      unit_price  total_price  \n",
              "0          33258    2960000.0  \n",
              "1          32996    2900000.0  \n",
              "2          32947    2900000.0  \n",
              "3          31869    2850000.0  \n",
              "4          32511    2860000.0  \n",
              "5          31746    2800000.0  \n",
              "6          32229    2880000.0  \n",
              "7          30957    2910000.0  \n",
              "8          33801    2890000.0  \n",
              "9          31775    2828000.0  \n",
              "10         33529    2850000.0  \n",
              "11         33146    2950000.0  \n",
              "12         33596    2990000.0  \n",
              "13         32427    2850000.0  \n",
              "14         33311    2950000.0  \n",
              "15         33647    2860000.0  \n",
              "16         31494    2803000.0  \n",
              "17         32941    2800000.0  \n",
              "18         34579    2960000.0  \n",
              "19         33596    2990000.0  \n",
              "20         32113    2860000.0  \n",
              "21         30316    2880000.0  \n",
              "22         34146    2800000.0  \n",
              "23         32501    2800000.0  \n",
              "24         32893    2890000.0  \n",
              "25         33882    2880000.0  \n",
              "26         30368    2885000.0  \n",
              "27         32269    2900000.0  \n",
              "28         32472    2890000.0  \n",
              "29         32584    2900000.0  \n",
              "...          ...          ...  \n",
              "2970       47500    3800000.0  \n",
              "2971       51155    2900000.0  \n",
              "2972       47758    4250000.0  \n",
              "2973       49296    4800000.0  \n",
              "2974       49531    4380000.0  \n",
              "2975       30000    3000000.0  \n",
              "2976       46528    3350000.0  \n",
              "2977       44253    3850000.0  \n",
              "2978       39796    3900000.0  \n",
              "2979       34091    3000000.0  \n",
              "2980       70665    5750000.0  \n",
              "2981       42135    3750000.0  \n",
              "2982       78506    6830000.0  \n",
              "2983       69149    6500000.0  \n",
              "2984       55978    5150000.0  \n",
              "2985       67727    6300000.0  \n",
              "2986       34973    3000000.0  \n",
              "2987       45688    4100000.0  \n",
              "2988       79592    7800000.0  \n",
              "2989       29091    2560000.0  \n",
              "2990       59770    5200000.0  \n",
              "2991       33825    2750000.0  \n",
              "2992       39022    3400000.0  \n",
              "2993      124044   18000000.0  \n",
              "2994       31537    2820000.0  \n",
              "2995       30565    3250000.0  \n",
              "2996       32809    2920000.0  \n",
              "2997       56093    4580000.0  \n",
              "2998       22727    2250000.0  \n",
              "2999       42491    3800000.0  \n",
              "\n",
              "[3000 rows x 8 columns]"
            ]
          },
          "metadata": {
            "tags": []
          },
          "execution_count": 17
        }
      ]
    },
    {
      "metadata": {
        "id": "Sjck2mN7iRFF",
        "colab_type": "code",
        "colab": {}
      },
      "cell_type": "code",
      "source": [
        "shenzhen['date'] = shenzhen['date'].str.extract('(d+)')"
      ],
      "execution_count": 0,
      "outputs": []
    },
    {
      "metadata": {
        "id": "MbRd2_u6iRFH",
        "colab_type": "code",
        "colab": {}
      },
      "cell_type": "code",
      "source": [
        "shenzhen['rooms'] = shenzhen['construct'].str.extract('^(\\d)')"
      ],
      "execution_count": 0,
      "outputs": []
    },
    {
      "metadata": {
        "id": "l0Dy5D9miRFI",
        "colab_type": "code",
        "colab": {}
      },
      "cell_type": "code",
      "source": [
        "shenzhen['halls'] = shenzhen['construct'].str.extract('(\\d)厅$')"
      ],
      "execution_count": 0,
      "outputs": []
    },
    {
      "metadata": {
        "id": "BbeVFs-riRFK",
        "colab_type": "code",
        "colab": {}
      },
      "cell_type": "code",
      "source": [
        "shenzhen = shenzhen[~shenzhen['zone'].str.contains('周边')]"
      ],
      "execution_count": 0,
      "outputs": []
    },
    {
      "metadata": {
        "id": "y6m1jE-1iRFM",
        "colab_type": "code",
        "colab": {
          "base_uri": "https://localhost:8080/",
          "height": 80
        },
        "outputId": "c65621e0-5245-4209-ab82-156a8eb3d1b1"
      },
      "cell_type": "code",
      "source": [
        "shenzhen[shenzhen['unit_price']==9146]"
      ],
      "execution_count": 28,
      "outputs": [
        {
          "output_type": "execute_result",
          "data": {
            "text/html": [
              "<div>\n",
              "<style scoped>\n",
              "    .dataframe tbody tr th:only-of-type {\n",
              "        vertical-align: middle;\n",
              "    }\n",
              "\n",
              "    .dataframe tbody tr th {\n",
              "        vertical-align: top;\n",
              "    }\n",
              "\n",
              "    .dataframe thead th {\n",
              "        text-align: right;\n",
              "    }\n",
              "</style>\n",
              "<table border=\"1\" class=\"dataframe\">\n",
              "  <thead>\n",
              "    <tr style=\"text-align: right;\">\n",
              "      <th></th>\n",
              "      <th>name</th>\n",
              "      <th>zone</th>\n",
              "      <th>size</th>\n",
              "      <th>floor</th>\n",
              "      <th>construct</th>\n",
              "      <th>date</th>\n",
              "      <th>unit_price</th>\n",
              "      <th>total_price</th>\n",
              "      <th>rooms</th>\n",
              "      <th>halls</th>\n",
              "    </tr>\n",
              "  </thead>\n",
              "  <tbody>\n",
              "    <tr>\n",
              "      <th>475</th>\n",
              "      <td>花城大厦</td>\n",
              "      <td>龙岗-坂田-美食北街五巷4号</td>\n",
              "      <td>82</td>\n",
              "      <td>低层(共30层)</td>\n",
              "      <td>3室2厅</td>\n",
              "      <td>NaN</td>\n",
              "      <td>9146</td>\n",
              "      <td>750000.0</td>\n",
              "      <td>3</td>\n",
              "      <td>2</td>\n",
              "    </tr>\n",
              "  </tbody>\n",
              "</table>\n",
              "</div>"
            ],
            "text/plain": [
              "     name            zone  size     floor construct date  unit_price  \\\n",
              "475  花城大厦  龙岗-坂田-美食北街五巷4号    82  低层(共30层)      3室2厅  NaN        9146   \n",
              "\n",
              "     total_price rooms halls  \n",
              "475     750000.0     3     2  "
            ]
          },
          "metadata": {
            "tags": []
          },
          "execution_count": 28
        }
      ]
    },
    {
      "metadata": {
        "id": "MQdtgSF3iRFP",
        "colab_type": "code",
        "colab": {
          "base_uri": "https://localhost:8080/",
          "height": 119
        },
        "outputId": "73ef30a8-442e-4f14-a49f-e8cdf88c25f3"
      },
      "cell_type": "code",
      "source": [
        "shenzhen['area'] = shenzhen['zone'].str.extract('(\\w+)-')"
      ],
      "execution_count": 29,
      "outputs": [
        {
          "output_type": "stream",
          "text": [
            "/usr/local/lib/python3.6/dist-packages/ipykernel_launcher.py:1: SettingWithCopyWarning: \n",
            "A value is trying to be set on a copy of a slice from a DataFrame.\n",
            "Try using .loc[row_indexer,col_indexer] = value instead\n",
            "\n",
            "See the caveats in the documentation: http://pandas.pydata.org/pandas-docs/stable/indexing.html#indexing-view-versus-copy\n",
            "  \"\"\"Entry point for launching an IPython kernel.\n"
          ],
          "name": "stderr"
        }
      ]
    },
    {
      "metadata": {
        "id": "-Ob0owNciRFR",
        "colab_type": "code",
        "colab": {
          "base_uri": "https://localhost:8080/",
          "height": 505
        },
        "outputId": "115459e9-090d-444b-a6c3-980695ec7f02"
      },
      "cell_type": "code",
      "source": [
        "sns.jointplot(x='size',y='unit_price',data=shenzhen)"
      ],
      "execution_count": 30,
      "outputs": [
        {
          "output_type": "stream",
          "text": [
            "/usr/local/lib/python3.6/dist-packages/matplotlib/axes/_axes.py:6521: MatplotlibDeprecationWarning: \n",
            "The 'normed' kwarg was deprecated in Matplotlib 2.1 and will be removed in 3.1. Use 'density' instead.\n",
            "  alternative=\"'density'\", removal=\"3.1\")\n"
          ],
          "name": "stderr"
        },
        {
          "output_type": "execute_result",
          "data": {
            "text/plain": [
              "<seaborn.axisgrid.JointGrid at 0x7f3e4ed2a400>"
            ]
          },
          "metadata": {
            "tags": []
          },
          "execution_count": 30
        },
        {
          "output_type": "display_data",
          "data": {
            "image/png": "[encoded data removed]",
            "text/plain": [
              "<Figure size 432x432 with 3 Axes>"
            ]
          },
          "metadata": {
            "tags": []
          }
        }
      ]
    },
    {
      "metadata": {
        "id": "vMI5-RljiRFT",
        "colab_type": "code",
        "colab": {}
      },
      "cell_type": "code",
      "source": [
        "sns.set_style('whitegrid',{'font.sans-serif':['simhei','Arial']})"
      ],
      "execution_count": 0,
      "outputs": []
    },
    {
      "metadata": {
        "id": "0moPFeMsiRFV",
        "colab_type": "code",
        "colab": {
          "base_uri": "https://localhost:8080/",
          "height": 468
        },
        "outputId": "9dcff0dd-66b5-49a2-8cb7-df17461bca2e"
      },
      "cell_type": "code",
      "source": [
        "sns.distplot(shenzhen['unit_price'])"
      ],
      "execution_count": 32,
      "outputs": [
        {
          "output_type": "stream",
          "text": [
            "/usr/local/lib/python3.6/dist-packages/matplotlib/axes/_axes.py:6521: MatplotlibDeprecationWarning: \n",
            "The 'normed' kwarg was deprecated in Matplotlib 2.1 and will be removed in 3.1. Use 'density' instead.\n",
            "  alternative=\"'density'\", removal=\"3.1\")\n"
          ],
          "name": "stderr"
        },
        {
          "output_type": "execute_result",
          "data": {
            "text/plain": [
              "<matplotlib.axes._subplots.AxesSubplot at 0x7f3e50183f28>"
            ]
          },
          "metadata": {
            "tags": []
          },
          "execution_count": 32
        },
        {
          "output_type": "stream",
          "text": [
            "/usr/local/lib/python3.6/dist-packages/matplotlib/font_manager.py:1241: UserWarning: findfont: Font family ['sans-serif'] not found. Falling back to DejaVu Sans.\n",
            "  (prop.get_family(), self.defaultFamily[fontext]))\n"
          ],
          "name": "stderr"
        },
        {
          "output_type": "display_data",
          "data": {
            "image/png": "[encoded data removed]",
            "text/plain": [
              "<Figure size 576x396 with 1 Axes>"
            ]
          },
          "metadata": {
            "tags": []
          }
        }
      ]
    },
    {
      "metadata": {
        "id": "CQpVGbqliRFY",
        "colab_type": "code",
        "colab": {
          "base_uri": "https://localhost:8080/",
          "height": 412
        },
        "outputId": "2f3b98af-ce8e-4667-cf74-f19eed9259f7"
      },
      "cell_type": "code",
      "source": [
        "sns.countplot(shenzhen['rooms'])"
      ],
      "execution_count": 33,
      "outputs": [
        {
          "output_type": "stream",
          "text": [
            "/usr/local/lib/python3.6/dist-packages/seaborn/categorical.py:1428: FutureWarning: remove_na is deprecated and is a private function. Do not use.\n",
            "  stat_data = remove_na(group_data)\n"
          ],
          "name": "stderr"
        },
        {
          "output_type": "execute_result",
          "data": {
            "text/plain": [
              "<matplotlib.axes._subplots.AxesSubplot at 0x7f3e4f84aa58>"
            ]
          },
          "metadata": {
            "tags": []
          },
          "execution_count": 33
        },
        {
          "output_type": "display_data",
          "data": {
            "image/png": "[encoded data removed]",
            "text/plain": [
              "<Figure size 576x396 with 1 Axes>"
            ]
          },
          "metadata": {
            "tags": []
          }
        }
      ]
    },
    {
      "metadata": {
        "id": "t8r6Qaq1ssYS",
        "colab_type": "code",
        "colab": {}
      },
      "cell_type": "code",
      "source": [
        ""
      ],
      "execution_count": 0,
      "outputs": []
    },
    {
      "metadata": {
        "id": "YqskF4t8iRFb",
        "colab_type": "code",
        "colab": {
          "base_uri": "https://localhost:8080/",
          "height": 34
        },
        "outputId": "6d078502-be87-4c2c-ce95-b07f73fbdd2a"
      },
      "cell_type": "code",
      "source": [
        "import matplotlib\n",
        "matplotlib.matplotlib_fname()"
      ],
      "execution_count": 40,
      "outputs": [
        {
          "output_type": "execute_result",
          "data": {
            "text/plain": [
              "'/usr/local/lib/python3.6/dist-packages/matplotlib/mpl-data/matplotlibrc'"
            ]
          },
          "metadata": {
            "tags": []
          },
          "execution_count": 40
        }
      ]
    },
    {
      "metadata": {
        "id": "SdldDlU7oUhd",
        "colab_type": "code",
        "colab": {}
      },
      "cell_type": "code",
      "source": [
        "dic = dict({'龙岗':'longgang','南山':'nanshan','福田':'futian','宝安':'baoan','罗湖':'luohu','盐田':'yantian','坪山':'pingshan','大鹏':'dapeng','光明':'guangming','龙华':'longhua'})"
      ],
      "execution_count": 0,
      "outputs": []
    },
    {
      "metadata": {
        "id": "1OW9YHbunrPc",
        "colab_type": "code",
        "colab": {
          "base_uri": "https://localhost:8080/",
          "height": 88
        },
        "outputId": "effa2b5e-aef1-4f1a-c339-f8375d39d247"
      },
      "cell_type": "code",
      "source": [
        "from matplotlib.font_manager import findfont, FontProperties  \n",
        "findfont(FontProperties(family=FontProperties().get_family())) "
      ],
      "execution_count": 43,
      "outputs": [
        {
          "output_type": "stream",
          "text": [
            "/usr/local/lib/python3.6/dist-packages/matplotlib/font_manager.py:1241: UserWarning: findfont: Font family ['sans-serif'] not found. Falling back to DejaVu Sans.\n",
            "  (prop.get_family(), self.defaultFamily[fontext]))\n"
          ],
          "name": "stderr"
        },
        {
          "output_type": "execute_result",
          "data": {
            "text/plain": [
              "'/usr/local/lib/python3.6/dist-packages/matplotlib/mpl-data/fonts/ttf/DejaVuSans.ttf'"
            ]
          },
          "metadata": {
            "tags": []
          },
          "execution_count": 43
        }
      ]
    },
    {
      "metadata": {
        "id": "wM5Adk8qiRFd",
        "colab_type": "code",
        "colab": {
          "base_uri": "https://localhost:8080/",
          "height": 412
        },
        "outputId": "a49fb993-7735-4ec2-eaeb-85860d0e67b8"
      },
      "cell_type": "code",
      "source": [
        "sns.boxplot(x='rooms',y='unit_price',data=shenzhen)"
      ],
      "execution_count": 37,
      "outputs": [
        {
          "output_type": "stream",
          "text": [
            "/usr/local/lib/python3.6/dist-packages/seaborn/categorical.py:454: FutureWarning: remove_na is deprecated and is a private function. Do not use.\n",
            "  box_data = remove_na(group_data)\n"
          ],
          "name": "stderr"
        },
        {
          "output_type": "execute_result",
          "data": {
            "text/plain": [
              "<matplotlib.axes._subplots.AxesSubplot at 0x7f3e4f2998d0>"
            ]
          },
          "metadata": {
            "tags": []
          },
          "execution_count": 37
        },
        {
          "output_type": "display_data",
          "data": {
            "image/png": "[encoded data removed]",
            "text/plain": [
              "<Figure size 576x396 with 1 Axes>"
            ]
          },
          "metadata": {
            "tags": []
          }
        }
      ]
    },
    {
      "metadata": {
        "id": "hZBb4nHVrhrN",
        "colab_type": "code",
        "colab": {
          "base_uri": "https://localhost:8080/",
          "height": 119
        },
        "outputId": "e1757271-074a-4b68-ced6-980d1180329e"
      },
      "cell_type": "code",
      "source": [
        "shenzhen['en_area'] = shenzhen['area'].apply(lambda row:dic[row])"
      ],
      "execution_count": 51,
      "outputs": [
        {
          "output_type": "stream",
          "text": [
            "/usr/local/lib/python3.6/dist-packages/ipykernel_launcher.py:1: SettingWithCopyWarning: \n",
            "A value is trying to be set on a copy of a slice from a DataFrame.\n",
            "Try using .loc[row_indexer,col_indexer] = value instead\n",
            "\n",
            "See the caveats in the documentation: http://pandas.pydata.org/pandas-docs/stable/indexing.html#indexing-view-versus-copy\n",
            "  \"\"\"Entry point for launching an IPython kernel.\n"
          ],
          "name": "stderr"
        }
      ]
    },
    {
      "metadata": {
        "id": "0_dkJCyDiRFf",
        "colab_type": "code",
        "colab": {
          "base_uri": "https://localhost:8080/",
          "height": 412
        },
        "outputId": "3b2f0f40-7b34-454b-fcbc-dd80a7826a52"
      },
      "cell_type": "code",
      "source": [
        "sns.boxplot(x='en_area',y='unit_price',data=shenzhen)"
      ],
      "execution_count": 53,
      "outputs": [
        {
          "output_type": "stream",
          "text": [
            "/usr/local/lib/python3.6/dist-packages/seaborn/categorical.py:454: FutureWarning: remove_na is deprecated and is a private function. Do not use.\n",
            "  box_data = remove_na(group_data)\n"
          ],
          "name": "stderr"
        },
        {
          "output_type": "execute_result",
          "data": {
            "text/plain": [
              "<matplotlib.axes._subplots.AxesSubplot at 0x7f3e4f439780>"
            ]
          },
          "metadata": {
            "tags": []
          },
          "execution_count": 53
        },
        {
          "output_type": "display_data",
          "data": {
            "image/png": "[encoded data removed]",
            "text/plain": [
              "<Figure size 576x396 with 1 Axes>"
            ]
          },
          "metadata": {
            "tags": []
          }
        }
      ]
    },
    {
      "metadata": {
        "id": "cR25WEymtUpR",
        "colab_type": "code",
        "colab": {
          "base_uri": "https://localhost:8080/",
          "height": 119
        },
        "outputId": "178deb54-d6d7-4f66-fceb-8532317c4fce"
      },
      "cell_type": "code",
      "source": [
        "shenzhen['level'] = shenzhen['floor'].str.extract('^(\\w{2})')"
      ],
      "execution_count": 56,
      "outputs": [
        {
          "output_type": "stream",
          "text": [
            "/usr/local/lib/python3.6/dist-packages/ipykernel_launcher.py:1: SettingWithCopyWarning: \n",
            "A value is trying to be set on a copy of a slice from a DataFrame.\n",
            "Try using .loc[row_indexer,col_indexer] = value instead\n",
            "\n",
            "See the caveats in the documentation: http://pandas.pydata.org/pandas-docs/stable/indexing.html#indexing-view-versus-copy\n",
            "  \"\"\"Entry point for launching an IPython kernel.\n"
          ],
          "name": "stderr"
        }
      ]
    },
    {
      "metadata": {
        "id": "4zzon02yiRFh",
        "colab_type": "code",
        "colab": {
          "base_uri": "https://localhost:8080/",
          "height": 412
        },
        "outputId": "10e30803-fead-4d72-973c-be25308be5ee"
      },
      "cell_type": "code",
      "source": [
        "sns.boxplot(x='level',y='unit_price',data=shenzhen)"
      ],
      "execution_count": 57,
      "outputs": [
        {
          "output_type": "stream",
          "text": [
            "/usr/local/lib/python3.6/dist-packages/seaborn/categorical.py:454: FutureWarning: remove_na is deprecated and is a private function. Do not use.\n",
            "  box_data = remove_na(group_data)\n"
          ],
          "name": "stderr"
        },
        {
          "output_type": "execute_result",
          "data": {
            "text/plain": [
              "<matplotlib.axes._subplots.AxesSubplot at 0x7f3e4bec6358>"
            ]
          },
          "metadata": {
            "tags": []
          },
          "execution_count": 57
        },
        {
          "output_type": "display_data",
          "data": {
            "image/png": "[encoded data removed]",
            "text/plain": [
              "<Figure size 576x396 with 1 Axes>"
            ]
          },
          "metadata": {
            "tags": []
          }
        }
      ]
    },
    {
      "metadata": {
        "id": "25AUIjlAs0T-",
        "colab_type": "code",
        "colab": {}
      },
      "cell_type": "code",
      "source": [
        ""
      ],
      "execution_count": 0,
      "outputs": []
    }
  ]
}